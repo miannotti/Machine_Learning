{
  "nbformat": 4,
  "nbformat_minor": 5,
  "metadata": {
    "colab": {
      "provenance": []
    },
    "kernelspec": {
      "name": "python3",
      "language": "python",
      "display_name": "Python 3"
    },
    "language_info": {
      "name": "python",
      "version": "3.x"
    }
  },
  "cells": [
    {
      "cell_type": "markdown",
      "metadata": {
        "id": "a7PFf2vhxvIu"
      },
      "source": [
        "# Bucles en Python (for / while)\n",
        "\n",
        "En esta unidad vamos a aprender a **repetir tareas automáticamente**. Esto es fundamental cuando queremos procesar colecciones de datos, simular escenarios o aplicar la misma operación muchas veces.\n",
        "\n",
        "Veremos dos tipos de bucle:\n",
        "- `for`: recorre una secuencia de elementos.\n",
        "- `while`: repite mientras se cumpla una condición.\n",
        "\n",
        "Objetivos de la unidad:\n",
        "1. Recorrer listas y secuencias con `for`.\n",
        "2. Generar rangos de valores con `range()`.\n",
        "3. Obtener índices y valores con `enumerate()`.\n",
        "4. Repetir procesos hasta que se cumpla una condición con `while`.\n",
        "5. Controlar la ejecución con `break` y `continue`.\n",
        "6. Aplicar bucles a casos prácticos (detección de umbrales, acumulación de totales).\n"
      ],
      "id": "a7PFf2vhxvIu"
    },
    {
      "cell_type": "markdown",
      "metadata": {
        "id": "y7sZIhcXxvI7"
      },
      "source": [
        "## Bucle `for`\n",
        "\n",
        "El bucle `for` permite recorrer los elementos de una colección (por ejemplo, una lista) y ejecutar un bloque de código para cada elemento.\n",
        "\n",
        "Estructura general:\n",
        "\n",
        "```python\n",
        "for variable in colección:\n",
        "    # bloque de código\n",
        "```\n"
      ],
      "id": "y7sZIhcXxvI7"
    },
    {
      "cell_type": "code",
      "metadata": {
        "colab": {
          "base_uri": "https://localhost:8080/"
        },
        "id": "IBR2PsQoxvI-",
        "outputId": "65cf8a8d-c583-4067-f036-beb7fc1f2227"
      },
      "execution_count": 28,
      "outputs": [
        {
          "output_type": "stream",
          "name": "stdout",
          "text": [
            "Importe procesado: 120\n",
            "Importe procesado: 450\n",
            "Importe procesado: 300\n",
            "Importe procesado: 150\n"
          ]
        }
      ],
      "source": [
        "# Lista de importes\n",
        "importes = [120, 450, 300, 150]\n",
        "\n",
        "for i in importes:\n",
        "  print(\"Importe procesado:\", i)"
      ],
      "id": "IBR2PsQoxvI-"
    },
    {
      "cell_type": "markdown",
      "metadata": {
        "id": "ESv4TUm8xvJC"
      },
      "source": [
        "En cada iteración, la variable (`i` en el ejemplo) toma uno de los elementos de la lista.\n",
        "\n",
        "Este patrón se usa constantemente para aplicar reglas o cálculos a todos los elementos de una colección."
      ],
      "id": "ESv4TUm8xvJC"
    },
    {
      "cell_type": "markdown",
      "metadata": {
        "id": "-xxwZZdyxvJD"
      },
      "source": [
        "## La función `range()`\n",
        "\n",
        "`range()` genera una secuencia de números enteros. Es útil cuando queremos repetir una acción un número determinado de veces, aunque no tengamos una lista concreta.\n",
        "\n",
        "Formas comunes:\n",
        "- `range(n)` → genera 0, 1, 2, ..., n-1\n",
        "- `range(inicio, fin)` → genera desde `inicio` hasta `fin-1`\n",
        "- `range(inicio, fin, paso)` → avanza de `paso` en `paso`\n"
      ],
      "id": "-xxwZZdyxvJD"
    },
    {
      "cell_type": "code",
      "metadata": {
        "id": "STnerzGmxvJE"
      },
      "execution_count": null,
      "outputs": [],
      "source": [
        "for i in range(5):\n",
        "    print(\"Iteración número:\", i)\n",
        "\n",
        "for i in range(2, 10, 3):\n",
        "    print(\"Saltando de 3 en 3:\", i)"
      ],
      "id": "STnerzGmxvJE"
    },
    {
      "cell_type": "code",
      "source": [
        "for i in range(2, 10, 3):\n",
        "    print(\"Saltando de 3 en 3:\", i)"
      ],
      "metadata": {
        "colab": {
          "base_uri": "https://localhost:8080/"
        },
        "id": "asQAPi3Vpncd",
        "outputId": "96a7a5fb-8211-4c81-c33b-332cb6491745"
      },
      "id": "asQAPi3Vpncd",
      "execution_count": 33,
      "outputs": [
        {
          "output_type": "stream",
          "name": "stdout",
          "text": [
            "Saltando de 3 en 3: 2\n",
            "Saltando de 3 en 3: 5\n",
            "Saltando de 3 en 3: 8\n"
          ]
        }
      ]
    },
    {
      "cell_type": "markdown",
      "metadata": {
        "id": "T6KikaDIxvJG"
      },
      "source": [
        "`range()` no crea una lista completa en memoria, sino una secuencia eficiente que se va generando bajo demanda. Esto lo hace adecuado también para bucles grandes."
      ],
      "id": "T6KikaDIxvJG"
    },
    {
      "cell_type": "markdown",
      "metadata": {
        "id": "hFr9IiaPxvJI"
      },
      "source": [
        "## `enumerate()`: índice y valor a la vez\n",
        "\n",
        "Con frecuencia necesitamos no solo el valor, sino también su posición (índice). Para eso existe `enumerate()`.\n",
        "\n",
        "Devuelve pares `(índice, valor)` que podemos desempaquetar en el mismo bucle.\n"
      ],
      "id": "hFr9IiaPxvJI"
    },
    {
      "cell_type": "code",
      "metadata": {
        "id": "SOqjXSwDxvJJ",
        "colab": {
          "base_uri": "https://localhost:8080/"
        },
        "outputId": "2fb98a7d-ffe3-4b3b-d2e8-28db731d69ba"
      },
      "execution_count": 37,
      "outputs": [
        {
          "output_type": "stream",
          "name": "stdout",
          "text": [
            "Mes 1: 120 unidades vendidas\n",
            "Mes 2: 450 unidades vendidas\n",
            "Mes 3: 300 unidades vendidas\n",
            "Mes 4: 150 unidades vendidas\n"
          ]
        }
      ],
      "source": [
        "ventas = [120, 450, 300, 150]\n",
        "\n",
        "for i, valor in enumerate(ventas):\n",
        "    print(f\"Mes {i + 1}: {valor} unidades vendidas\")"
      ],
      "id": "SOqjXSwDxvJJ"
    },
    {
      "cell_type": "markdown",
      "metadata": {
        "id": "pNL7V-f-xvJL"
      },
      "source": [
        "Esto es útil, por ejemplo, cuando queremos mostrar o registrar la posición de cada elemento, o cuando vamos a modificar elementos de una lista en función de su índice."
      ],
      "id": "pNL7V-f-xvJL"
    },
    {
      "cell_type": "markdown",
      "metadata": {
        "id": "bQHzU3ADxvJL"
      },
      "source": [
        "## Recorrer por valor, por índice o por ambos\n",
        "\n",
        "Existen tres patrones típicos al recorrer una lista:\n",
        "\n",
        "1. **Por valor:** iterar directamente sobre los elementos.\n",
        "2. **Por índice:** usar `range(len(lista))` para acceder manualmente a `lista[i]`.\n",
        "3. **Índice y valor:** usar `enumerate()`.\n"
      ],
      "id": "bQHzU3ADxvJL"
    },
    {
      "cell_type": "code",
      "metadata": {
        "id": "NRiHIcE4xvJM",
        "colab": {
          "base_uri": "https://localhost:8080/"
        },
        "outputId": "b6563f88-55f6-4e52-8d5f-72679089a04d"
      },
      "execution_count": 42,
      "outputs": [
        {
          "output_type": "stream",
          "name": "stdout",
          "text": [
            "== Por valor ==\n",
            "Valor: 10\n",
            "Valor: 20\n",
            "Valor: 30\n",
            "Valor: 40\n",
            "\n",
            "== Por índice ==\n",
            "Índice: 0 → Valor: 10\n",
            "Índice: 1 → Valor: 20\n",
            "Índice: 2 → Valor: 30\n",
            "Índice: 3 → Valor: 40\n",
            "\n",
            "== Índice y valor juntos ==\n",
            "Pos 0: 10\n",
            "Pos 1: 20\n",
            "Pos 2: 30\n",
            "Pos 3: 40\n"
          ]
        }
      ],
      "source": [
        "valores = [10, 20, 30, 40]\n",
        "\n",
        "print(\"== Por valor ==\")\n",
        "for v in valores:\n",
        "    print(\"Valor:\", v)\n",
        "\n",
        "print(\"\\n== Por índice ==\")\n",
        "for i in range(len(valores)):\n",
        "    print(\"Índice:\", i, \"→ Valor:\", valores[i])\n",
        "\n",
        "print(\"\\n== Índice y valor juntos ==\")\n",
        "for i, v in enumerate(valores):\n",
        "    print(f\"Pos {i}: {v}\")"
      ],
      "id": "NRiHIcE4xvJM"
    },
    {
      "cell_type": "markdown",
      "metadata": {
        "id": "2iAuRI6xxvJN"
      },
      "source": [
        "## Bucle `while`\n",
        "\n",
        "El bucle `while` repite un bloque de código **mientras** se cumpla una condición lógica.\n",
        "\n",
        "Es útil cuando no sabemos de antemano cuántas iteraciones harán falta, por ejemplo en procesos acumulativos o simulaciones.\n",
        "\n",
        "Estructura general:\n",
        "\n",
        "```python\n",
        "while condición:\n",
        "    # bloque de código\n",
        "```\n",
        "\n",
        "Es fundamental que la condición cambie dentro del bucle, para evitar bucles infinitos."
      ],
      "id": "2iAuRI6xxvJN"
    },
    {
      "cell_type": "code",
      "metadata": {
        "id": "9c7r6_G8xvJO",
        "colab": {
          "base_uri": "https://localhost:8080/"
        },
        "outputId": "e82009fb-7d0f-4534-c99f-b43d77c8ea4f"
      },
      "execution_count": 43,
      "outputs": [
        {
          "output_type": "stream",
          "name": "stdout",
          "text": [
            "Periodo 1: capital acumulado = 1050.00\n",
            "Periodo 2: capital acumulado = 1102.50\n",
            "Periodo 3: capital acumulado = 1157.62\n",
            "Periodo 4: capital acumulado = 1215.51\n",
            "Periodo 5: capital acumulado = 1276.28\n",
            "Periodo 6: capital acumulado = 1340.10\n",
            "Periodo 7: capital acumulado = 1407.10\n",
            "Periodo 8: capital acumulado = 1477.46\n",
            "Periodo 9: capital acumulado = 1551.33\n",
            "Periodo 10: capital acumulado = 1628.89\n",
            "Periodo 11: capital acumulado = 1710.34\n",
            "Periodo 12: capital acumulado = 1795.86\n",
            "Periodo 13: capital acumulado = 1885.65\n",
            "Periodo 14: capital acumulado = 1979.93\n",
            "Periodo 15: capital acumulado = 2078.93\n"
          ]
        }
      ],
      "source": [
        "capital = 1000\n",
        "tasa = 0.05  # 5% de crecimiento por ciclo\n",
        "periodo = 0\n",
        "\n",
        "while capital < 2000:\n",
        "    capital *= 1 + tasa\n",
        "    periodo += 1\n",
        "    print(f\"Periodo {periodo}: capital acumulado = {capital:.2f}\")"
      ],
      "id": "9c7r6_G8xvJO"
    },
    {
      "cell_type": "markdown",
      "metadata": {
        "id": "BlUxR7SjxvJP"
      },
      "source": [
        "## Control de flujo dentro del bucle: `break` y `continue`\n",
        "\n",
        "- `continue` salta directamente a la siguiente iteración, omitiendo el resto del bloque actual.\n",
        "- `break` interrumpe el bucle por completo.\n",
        "\n",
        "Estos mecanismos permiten filtrar datos o detener la búsqueda cuando ya hemos encontrado lo que buscábamos."
      ],
      "id": "BlUxR7SjxvJP"
    },
    {
      "cell_type": "code",
      "metadata": {
        "id": "WcQzYjP0xvJP",
        "colab": {
          "base_uri": "https://localhost:8080/"
        },
        "outputId": "efee2f4c-7cc5-4a69-e057-68b798c6d38d"
      },
      "execution_count": 44,
      "outputs": [
        {
          "output_type": "stream",
          "name": "stdout",
          "text": [
            "=== Ejemplo con continue ===\n",
            "Procesando número: 12\n",
            "Procesando número: 18\n",
            "Procesando número: 25\n",
            "\n",
            "=== Ejemplo con break ===\n",
            "Valor dentro de rango: 5\n",
            "Valor dentro de rango: 12\n",
            "Valor dentro de rango: 18\n",
            "Valor dentro de rango: 3\n",
            "Número alto detectado: 25\n"
          ]
        }
      ],
      "source": [
        "numeros = [5, 12, 18, 3, 25, 7]\n",
        "\n",
        "print(\"=== Ejemplo con continue ===\")\n",
        "for n in numeros:\n",
        "    if n < 10:\n",
        "        continue  # saltamos los menores de 10\n",
        "    print(\"Procesando número:\", n)\n",
        "\n",
        "print(\"\\n=== Ejemplo con break ===\")\n",
        "for n in numeros:\n",
        "    if n > 20:\n",
        "        print(\"Número alto detectado:\", n)\n",
        "        break\n",
        "    print(\"Valor dentro de rango:\", n)"
      ],
      "id": "WcQzYjP0xvJP"
    },
    {
      "cell_type": "code",
      "source": [],
      "metadata": {
        "id": "dSa1jvPsoc5_"
      },
      "id": "dSa1jvPsoc5_",
      "execution_count": null,
      "outputs": []
    },
    {
      "cell_type": "markdown",
      "metadata": {
        "id": "-omHezn_xvJR"
      },
      "source": [
        "## Detección de valores por encima de un umbral\n",
        "\n",
        "Supongamos que tenemos una serie de mediciones y queremos marcar aquellas que superan un valor de referencia. Este tipo de lógica es común en monitorización, control de calidad o alertas.\n"
      ],
      "id": "-omHezn_xvJR"
    },
    {
      "cell_type": "code",
      "metadata": {
        "id": "bWUCvyizxvJS",
        "colab": {
          "base_uri": "https://localhost:8080/"
        },
        "outputId": "1bca94c0-09ba-44bb-f1b7-be0592717767"
      },
      "execution_count": 45,
      "outputs": [
        {
          "output_type": "stream",
          "name": "stdout",
          "text": [
            "3.5 → valor normal\n",
            "7.2 → valor alto\n",
            "6.8 → valor normal\n",
            "8.0 → valor alto\n",
            "4.9 → valor normal\n",
            "9.3 → valor alto\n"
          ]
        }
      ],
      "source": [
        "mediciones = [3.5, 7.2, 6.8, 8.0, 4.9, 9.3]\n",
        "umbral = 7.0\n",
        "\n",
        "for valor in mediciones:\n",
        "    if valor > umbral:\n",
        "        print(valor, \"→ valor alto\")\n",
        "    else:\n",
        "        print(valor, \"→ valor normal\")"
      ],
      "id": "bWUCvyizxvJS"
    },
    {
      "cell_type": "markdown",
      "metadata": {
        "id": "0zD7O28ixvJS"
      },
      "source": [
        "## Acumulación progresiva\n",
        "\n",
        "Un patrón típico en análisis es ir acumulando un total paso a paso hasta alcanzar un objetivo.\n",
        "\n",
        "Aquí usamos un bucle `while` para simular un proceso que va sumando operaciones procesadas hasta llegar a un objetivo establecido."
      ],
      "id": "0zD7O28ixvJS"
    },
    {
      "cell_type": "code",
      "metadata": {
        "colab": {
          "base_uri": "https://localhost:8080/"
        },
        "id": "CtsM923MxvJT",
        "outputId": "dc6d0411-35c4-4164-ab1a-fad9b1886387"
      },
      "execution_count": 46,
      "outputs": [
        {
          "output_type": "stream",
          "name": "stdout",
          "text": [
            "Operaciones completadas: 120/1000\n",
            "Operaciones completadas: 240/1000\n",
            "Operaciones completadas: 360/1000\n",
            "Operaciones completadas: 480/1000\n",
            "Operaciones completadas: 600/1000\n",
            "Operaciones completadas: 720/1000\n",
            "Operaciones completadas: 840/1000\n",
            "Operaciones completadas: 960/1000\n",
            "Operaciones completadas: 1080/1000\n"
          ]
        }
      ],
      "source": [
        "procesadas = 0\n",
        "objetivo = 1000\n",
        "incremento = 120\n",
        "\n",
        "while procesadas < objetivo:\n",
        "    procesadas += incremento\n",
        "    print(f\"Operaciones completadas: {procesadas}/{objetivo}\")"
      ],
      "id": "CtsM923MxvJT"
    },
    {
      "cell_type": "markdown",
      "metadata": {
        "id": "jGWVtKbbxvJT"
      },
      "source": [
        "## Resumen de la unidad\n",
        "\n",
        "En esta unidad hemos visto:\n",
        "\n",
        "- Cómo recorrer colecciones con `for`.\n",
        "- Cómo generar secuencias numéricas con `range()`.\n",
        "- Cómo obtener índice y valor con `enumerate()`.\n",
        "- Cómo repetir procesos condicionados con `while`.\n",
        "- Cómo usar `break` y `continue` para controlar el flujo.\n",
        "- Ejemplos prácticos: detección de umbrales, acumulación de totales, recorrido de estructuras bidimensionales.\n",
        "\n",
        "En la siguiente unidad aprenderemos a encapsular lógica en **funciones**, lo que nos permitirá reutilizar cálculos y organizar el código de manera más clara."
      ],
      "id": "jGWVtKbbxvJT"
    }
  ]
}
