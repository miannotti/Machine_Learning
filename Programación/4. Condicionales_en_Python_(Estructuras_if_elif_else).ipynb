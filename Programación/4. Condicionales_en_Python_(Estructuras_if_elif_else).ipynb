{
  "nbformat": 4,
  "nbformat_minor": 5,
  "metadata": {
    "colab": {
      "provenance": []
    },
    "kernelspec": {
      "name": "python3",
      "language": "python",
      "display_name": "Python 3"
    },
    "language_info": {
      "name": "python",
      "version": "3.x"
    }
  },
  "cells": [
    {
      "cell_type": "markdown",
      "metadata": {
        "id": "0VUHcPI_yzDl"
      },
      "source": [
        "# Condicionales en Python (if / elif / else)"
      ],
      "id": "0VUHcPI_yzDl"
    },
    {
      "cell_type": "markdown",
      "metadata": {
        "id": "_S1xrn7cyzDp"
      },
      "source": [
        "## Estructura básica de un condicional\n",
        "\n",
        "La forma general es:\n",
        "\n",
        "```python\n",
        "if condición:\n",
        "    # bloque si la condición es verdadera\n",
        "else:\n",
        "    # bloque si la condición es falsa\n",
        "```\n",
        "\n",
        "Importante: la **indentación** (sangría, normalmente 4 espacios) define qué instrucciones pertenecen al bloque.\n",
        "En Python la indentación es parte de la sintaxis, no es decorativa.\n"
      ],
      "id": "_S1xrn7cyzDp"
    },
    {
      "cell_type": "code",
      "metadata": {
        "id": "7rlsbqyZyzDr",
        "colab": {
          "base_uri": "https://localhost:8080/"
        },
        "outputId": "c0a15a09-3330-4c17-c79d-8baa40a5abf6"
      },
      "execution_count": 5,
      "outputs": [
        {
          "output_type": "stream",
          "name": "stdout",
          "text": [
            "El número es mayor que cinco\n"
          ]
        }
      ],
      "source": [
        "valor = 10\n",
        "\n",
        "if valor > 5:\n",
        "  print(\"El número es mayor que cinco\")\n",
        "else:\n",
        "  print(\"El número es cinco o menos\")"
      ],
      "id": "7rlsbqyZyzDr"
    },
    {
      "cell_type": "markdown",
      "metadata": {
        "id": "U9LIwQmRyzDs"
      },
      "source": [
        "## Operadores de comparación\n",
        "\n",
        "Las condiciones se basan en comparaciones que devuelven `True` o `False`:\n",
        "\n",
        "- `==`  igual que\n",
        "- `!=`  distinto de\n",
        "- `>`   mayor que\n",
        "- `<`   menor que\n",
        "- `>=`  mayor o igual que\n",
        "- `<=`  menor o igual que\n",
        "\n",
        "Ejemplo: decidir si una temperatura está por encima de cierto umbral."
      ],
      "id": "U9LIwQmRyzDs"
    },
    {
      "cell_type": "code",
      "metadata": {
        "id": "XmIQSWXnyzDs",
        "colab": {
          "base_uri": "https://localhost:8080/"
        },
        "outputId": "6d712b94-0d33-46f5-d2d5-731f93f1f175"
      },
      "execution_count": 6,
      "outputs": [
        {
          "output_type": "stream",
          "name": "stdout",
          "text": [
            "Temperatura moderada.\n"
          ]
        }
      ],
      "source": [
        "temperatura = 29\n",
        "\n",
        "if temperatura > 30:\n",
        "    print(\"Día caluroso.\")\n",
        "else:\n",
        "    print(\"Temperatura moderada.\")"
      ],
      "id": "XmIQSWXnyzDs"
    },
    {
      "cell_type": "markdown",
      "metadata": {
        "id": "DixhpbKKyzDs"
      },
      "source": [
        "## Operadores lógicos: `and`, `or`, `not`\n",
        "\n",
        "Podemos combinar condiciones con operadores lógicos:\n",
        "\n",
        "- `and`: verdadero si **todas** las condiciones son verdaderas.\n",
        "- `or`: verdadero si **al menos una** condición es verdadera.\n",
        "- `not`: invierte el valor lógico.\n",
        "\n",
        "Esto nos permite expresar reglas más realistas.\n"
      ],
      "id": "DixhpbKKyzDs"
    },
    {
      "cell_type": "code",
      "metadata": {
        "id": "ilks659yyzDs",
        "colab": {
          "base_uri": "https://localhost:8080/"
        },
        "outputId": "bae484a6-691f-4a23-8ef5-c22e84e0d666"
      },
      "execution_count": 7,
      "outputs": [
        {
          "output_type": "stream",
          "name": "stdout",
          "text": [
            "Cumple con los requisitos\n"
          ]
        }
      ],
      "source": [
        "edad = 25\n",
        "ingresos = 40000\n",
        "\n",
        "if edad > 18 and ingresos > 30000:\n",
        "  print(\"Cumple con los requisitos\")\n",
        "else:\n",
        "  print(\"No cumple con los requisitos\")"
      ],
      "id": "ilks659yyzDs"
    },
    {
      "cell_type": "markdown",
      "metadata": {
        "id": "2OcqEVRayzDs"
      },
      "source": [
        "## Varias rutas posibles: `elif`\n",
        "\n",
        "Cuando queremos cubrir más de dos casos, usamos `elif` (abreviatura de *else if*).\n",
        "\n",
        "Python evalúa las condiciones en orden y ejecuta la primera que sea verdadera.\n"
      ],
      "id": "2OcqEVRayzDs"
    },
    {
      "cell_type": "code",
      "metadata": {
        "id": "ZDqYkk2GyzDt",
        "colab": {
          "base_uri": "https://localhost:8080/"
        },
        "outputId": "e9af8228-73f8-40da-e80d-595f7fef6ad4"
      },
      "execution_count": 10,
      "outputs": [
        {
          "output_type": "stream",
          "name": "stdout",
          "text": [
            "Rendimiento adecuado.\n"
          ]
        }
      ],
      "source": [
        "rendimiento = 87\n",
        "\n",
        "if rendimiento >= 90:\n",
        "    print(\"Excelente rendimiento.\")\n",
        "elif rendimiento >= 70:\n",
        "    print(\"Rendimiento adecuado.\")\n",
        "else:\n",
        "    print(\"Rendimiento insuficiente.\")"
      ],
      "id": "ZDqYkk2GyzDt"
    },
    {
      "cell_type": "markdown",
      "metadata": {
        "id": "bGJJxjigyzDt"
      },
      "source": [
        "## Condicionales anidados\n",
        "\n",
        "También es posible incluir un `if` dentro de otro. A esto se le llama **if anidado**.\n",
        "\n",
        "Es útil cuando la segunda comprobación solo tiene sentido si la primera se cumple.\n",
        "\n",
        "Conviene no abusar de esta técnica: si la lógica se vuelve demasiado profunda, suele ser mejor reescribir la condición con `and` / `or` por claridad."
      ],
      "id": "bGJJxjigyzDt"
    },
    {
      "cell_type": "code",
      "metadata": {
        "id": "J9MsA-HsyzDt",
        "colab": {
          "base_uri": "https://localhost:8080/"
        },
        "outputId": "aa12c3c5-ab3f-4174-c8a1-091eae641f56"
      },
      "execution_count": 11,
      "outputs": [
        {
          "output_type": "stream",
          "name": "stdout",
          "text": [
            "Perfil solvente.\n"
          ]
        }
      ],
      "source": [
        "edad = 30\n",
        "ingresos = 50000\n",
        "\n",
        "if edad > 18:\n",
        "    if ingresos > 40000:\n",
        "        print(\"Perfil solvente.\")\n",
        "    else:\n",
        "        print(\"Ingresos mejorables.\")\n",
        "else:\n",
        "    print(\"Menor de edad.\")"
      ],
      "id": "J9MsA-HsyzDt"
    },
    {
      "cell_type": "markdown",
      "metadata": {
        "id": "nsTMIOoyyzDt"
      },
      "source": [
        "## Expresión condicional (forma compacta)\n",
        "\n",
        "Para asignar un valor en función de una condición sencilla, Python permite escribir la expresión en una sola línea:\n",
        "\n",
        "```python\n",
        "variable = valor_si_verdadero if condición else valor_si_falso\n",
        "```\n",
        "\n",
        "Esto se denomina expresión condicional o \"ternario\".\n"
      ],
      "id": "nsTMIOoyyzDt"
    },
    {
      "cell_type": "code",
      "metadata": {
        "id": "dTY-vtR5yzDt",
        "colab": {
          "base_uri": "https://localhost:8080/"
        },
        "outputId": "65160aaa-4266-4748-bba3-48a4dc67e53f"
      },
      "execution_count": 12,
      "outputs": [
        {
          "output_type": "stream",
          "name": "stdout",
          "text": [
            "Estado de la cuenta: Crédito positivo\n"
          ]
        }
      ],
      "source": [
        "saldo = 150\n",
        "estado = \"Crédito positivo\" if saldo >= 0 else \"Saldo deudor\"\n",
        "print(\"Estado de la cuenta:\", estado)"
      ],
      "id": "dTY-vtR5yzDt"
    },
    {
      "cell_type": "markdown",
      "metadata": {
        "id": "rTgC_BVqyzDu"
      },
      "source": [
        "## Errores comunes\n",
        "\n",
        "Al trabajar con condicionales, conviene vigilar:\n",
        "\n",
        "- **Falta de `:`** después del `if`, `elif` o `else`.\n",
        "- **Indentación incorrecta**: en Python no se usan llaves `{}` para delimitar bloques, sino sangría.\n",
        "- **Confundir `=` con `==`**:\n",
        "  - `=` asigna un valor a una variable.\n",
        "  - `==` compara dos valores.\n",
        "- **Bloques vacíos**: si queremos dejar un bloque \"en construcción\", podemos usar `pass`.\n"
      ],
      "id": "rTgC_BVqyzDu"
    },
    {
      "cell_type": "code",
      "metadata": {
        "id": "KHs3nYznyzDu"
      },
      "execution_count": 13,
      "outputs": [],
      "source": [
        "x = 10\n",
        "\n",
        "if x > 5:\n",
        "    # Aún no implementado, pero el bloque no puede estar vacío\n",
        "    pass\n",
        "else:\n",
        "    print(\"x es menor o igual que 5\")"
      ],
      "id": "KHs3nYznyzDu"
    },
    {
      "cell_type": "markdown",
      "metadata": {
        "id": "xFClqn3byzDu"
      },
      "source": [
        "## Resumen de la unidad\n",
        "\n",
        "En esta unidad hemos visto:\n",
        "\n",
        "- Cómo construir una decisión básica con `if` / `else`.\n",
        "- Cómo combinar condiciones con `and`, `or`, `not`.\n",
        "- Cómo manejar múltiples casos con `elif`.\n",
        "- Cómo aplicar reglas de decisión a una colección de datos.\n",
        "\n",
        "Los condicionales permiten que el programa actúe de manera distinta según la información disponible. En la siguiente unidad aprenderemos a **repetir procesos automáticamente** con bucles `for` y `while`."
      ],
      "id": "xFClqn3byzDu"
    }
  ]
}
