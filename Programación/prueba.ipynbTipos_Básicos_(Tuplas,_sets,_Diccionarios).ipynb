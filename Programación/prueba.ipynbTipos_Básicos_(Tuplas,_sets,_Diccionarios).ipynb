{
  "cells": [
    {
      "cell_type": "markdown",
      "metadata": {
        "id": "kWJuTRj1y1vd"
      },
      "source": [
        "# Estructuras de datos básicas: tuplas, conjuntos y diccionarios\n",
        "\n",
        "En esta unidad vamos a trabajar con tres estructuras fundamentales de Python que nos permiten organizar información de manera más rica que una lista:\n",
        "\n",
        "- **Tupla (`tuple`)**: colección ordenada e inmutable.\n",
        "- **Conjunto (`set`)**: colección sin duplicados.\n",
        "- **Diccionario (`dict`)**: pares clave–valor.\n",
        "\n",
        "Estas estructuras son esenciales para representar datos reales:\n",
        "- una tupla puede agrupar valores que van juntos y no deben modificarse,\n",
        "- un conjunto sirve para obtener valores únicos o comparar grupos,\n",
        "- un diccionario describe entidades con atributos con nombre (por ejemplo, un registro)."
      ],
      "id": "kWJuTRj1y1vd"
    },
    {
      "cell_type": "markdown",
      "metadata": {
        "id": "WgHJdQTNy1vp"
      },
      "source": [
        "## Tuplas (`tuple`)\n",
        "\n",
        "Una **tupla** es similar a una lista, pero **no se puede modificar** (es *inmutable*).\n",
        "Se define con paréntesis `()`.\n",
        "\n",
        "Esto es útil cuando queremos almacenar un conjunto de valores que conceptualmente van juntos y no deberían cambiar, por ejemplo unas coordenadas o un resultado fijo."
      ],
      "id": "WgHJdQTNy1vp"
    },
    {
      "cell_type": "code",
      "execution_count": 22,
      "metadata": {
        "colab": {
          "base_uri": "https://localhost:8080/"
        },
        "id": "aq1LCrlky1vs",
        "outputId": "1a1bf996-e74a-4975-ebfe-8ab6dc5275c1"
      },
      "outputs": [
        {
          "output_type": "stream",
          "name": "stdout",
          "text": [
            "Coordenadas: (40.4168, -3.7038)\n",
            "Latitud: 40.4168\n",
            "Longitud: -3.7038\n"
          ]
        }
      ],
      "source": [
        "# Ejemplo de tupla con dos valores relacionados\n",
        "coordenadas = (40.4168, -3.7038)  # Ejemplo: latitud y longitud de Madrid\n",
        "print(\"Coordenadas:\", coordenadas)\n",
        "\n",
        "# Desempaquetado de tupla (asignar directamente a varias variables)\n",
        "latitud, longitud = coordenadas\n",
        "print(\"Latitud:\", latitud)\n",
        "print(\"Longitud:\", longitud)"
      ],
      "id": "aq1LCrlky1vs"
    },
    {
      "cell_type": "markdown",
      "metadata": {
        "id": "fCCNG6qVy1vx"
      },
      "source": [
        "Las tuplas pueden contener distintos tipos de datos. Un caso típico es guardar una etiqueta y su valor, como el nombre de una métrica y su resultado."
      ],
      "id": "fCCNG6qVy1vx"
    },
    {
      "cell_type": "code",
      "execution_count": 23,
      "metadata": {
        "colab": {
          "base_uri": "https://localhost:8080/"
        },
        "id": "rGidvMXYy1vy",
        "outputId": "c52d351c-bf5a-46e8-ad0b-895ca3bd50fc"
      },
      "outputs": [
        {
          "output_type": "stream",
          "name": "stdout",
          "text": [
            "('precisión', 0.91)\n",
            "Nombre de la métrica: precisión\n",
            "Valor: 0.91\n"
          ]
        }
      ],
      "source": [
        "resultado_modelo = (\"precisión\", 0.91)\n",
        "print(resultado_modelo)\n",
        "print(\"Nombre de la métrica:\", resultado_modelo[0])\n",
        "print(\"Valor:\", resultado_modelo[1])"
      ],
      "id": "rGidvMXYy1vy"
    },
    {
      "cell_type": "markdown",
      "metadata": {
        "id": "IcbtyVvNy1v0"
      },
      "source": [
        "Las tuplas permiten indexación y *slicing* igual que las listas, pero no se pueden modificar.\n",
        "\n",
        "Intentar reasignar un elemento de una tupla produce un error, precisamente porque son inmutables."
      ],
      "id": "IcbtyVvNy1v0"
    },
    {
      "cell_type": "code",
      "execution_count": 29,
      "metadata": {
        "colab": {
          "base_uri": "https://localhost:8080/"
        },
        "id": "SpxIj87ky1v1",
        "outputId": "20a983a8-d6ed-4f33-c498-0fdbd267268f"
      },
      "outputs": [
        {
          "output_type": "stream",
          "name": "stdout",
          "text": [
            "Primer elemento: 10\n",
            "Último elemento: 50\n",
            "Subtupla 1:4: (20, 30, 40)\n",
            "count(20): 1\n",
            "¿30 está en la tupla? True\n"
          ]
        }
      ],
      "source": [
        "numeros = (10, 20, 30, 40, 50)\n",
        "\n",
        "print(\"Primer elemento:\", numeros[0])\n",
        "print(\"Último elemento:\", numeros[-1])\n",
        "print(\"Subtupla 1:4:\", numeros[1:4])\n",
        "\n",
        "# Ejemplo de métodos útiles\n",
        "print(\"count(20):\", numeros.count(20))\n",
        "print(\"¿30 está en la tupla?\", 30 in numeros)\n",
        "\n",
        "# Si descomentamos la siguiente línea obtendríamos un error, porque las tuplas no se pueden modificar:\n",
        "# numeros[0] = 99"
      ],
      "id": "SpxIj87ky1v1"
    },
    {
      "cell_type": "markdown",
      "metadata": {
        "id": "7EazVFtAy1v4"
      },
      "source": [
        "## Conjuntos (`set`)\n",
        "\n",
        "Un **conjunto** es una colección **sin duplicados** y **sin orden garantizado**.\n",
        "Se define con llaves `{}` o con la función `set()`.\n",
        "\n",
        "Los conjuntos son muy útiles cuando queremos:\n",
        "- eliminar elementos repetidos,\n",
        "- comprobar pertenencia rápida (¿está X en el conjunto?),\n",
        "- comparar grupos de valores.\n"
      ],
      "id": "7EazVFtAy1v4"
    },
    {
      "cell_type": "code",
      "execution_count": 38,
      "metadata": {
        "id": "gwttZaPwy1v5",
        "outputId": "acda02d6-0dfb-4f0d-8e80-4536ff6ecebf",
        "colab": {
          "base_uri": "https://localhost:8080/"
        }
      },
      "outputs": [
        {
          "output_type": "stream",
          "name": "stdout",
          "text": [
            "Conjunto resultante (sin duplicados): {'Moda', 'Electrónica', 'Hogar'}\n",
            "Unión (A ∪ B): {'Hogar', 'Jardín', 'Baño', 'Cocina'}\n",
            "Intersección (A ∩ B): {'Cocina', 'Hogar'}\n",
            "Diferencia (A - B): {'Jardín'}\n",
            "Diferencia simétrica (A ^ B): {'Jardín', 'Baño'}\n"
          ]
        }
      ],
      "source": [
        "# Ejemplo: categorías declaradas con duplicados\n",
        "categorias = {\"Electrónica\", \"Hogar\", \"Moda\", \"Electrónica\"}\n",
        "print(\"Conjunto resultante (sin duplicados):\", categorias)\n",
        "\n",
        "# Operaciones entre conjuntos\n",
        "A = {\"Hogar\", \"Jardín\", \"Cocina\"}\n",
        "B = {\"Cocina\", \"Baño\", \"Hogar\"}\n",
        "\n",
        "print(\"Unión (A ∪ B):\", A | B)\n",
        "print(\"Intersección (A ∩ B):\", A & B)\n",
        "print(\"Diferencia (A - B):\", A - B)\n",
        "print(\"Diferencia simétrica (A ^ B):\", A ^ B)"
      ],
      "id": "gwttZaPwy1v5"
    },
    {
      "cell_type": "markdown",
      "metadata": {
        "id": "5pjiWaNMy1v7"
      },
      "source": [
        "Estos operadores son muy útiles para analizar cambios entre dos listas de valores.\n",
        "Por ejemplo, comparar clientes de dos periodos diferentes para ver quién es nuevo y quién ya no está."
      ],
      "id": "5pjiWaNMy1v7"
    },
    {
      "cell_type": "code",
      "execution_count": 39,
      "metadata": {
        "id": "rkAgHtGEy1v8",
        "outputId": "2d23e2be-91ad-4b9e-c9bc-82274eeb7e2c",
        "colab": {
          "base_uri": "https://localhost:8080/"
        }
      },
      "outputs": [
        {
          "output_type": "stream",
          "name": "stdout",
          "text": [
            "Clientes nuevos en 2025: {'Elena'}\n",
            "Clientes que ya no están: {'Ana'}\n"
          ]
        }
      ],
      "source": [
        "clientes_2024 = {\"Ana\", \"Luis\", \"María\", \"Pedro\"}\n",
        "clientes_2025 = {\"Luis\", \"María\", \"Pedro\", \"Elena\"}\n",
        "\n",
        "nuevos = clientes_2025 - clientes_2024      # están en 2025 pero no en 2024\n",
        "perdidos = clientes_2024 - clientes_2025    # estaban en 2024 pero ya no en 2025\n",
        "\n",
        "print(\"Clientes nuevos en 2025:\", nuevos)\n",
        "print(\"Clientes que ya no están:\", perdidos)"
      ],
      "id": "rkAgHtGEy1v8"
    },
    {
      "cell_type": "markdown",
      "metadata": {
        "id": "HSvMyNVKy1v-"
      },
      "source": [
        "Algunos métodos habituales de los conjuntos:\n",
        "- `.add(x)`: añade un elemento.\n",
        "- `.remove(x)`: elimina un elemento (error si no existe).\n",
        "- `.discard(x)`: elimina un elemento si está, y si no está no da error.\n",
        "- `.issubset(otro)`: comprueba si todos los elementos del conjunto actual están contenidos en otro.\n",
        "- `.issuperset(otro)`: comprueba lo contrario.\n"
      ],
      "id": "HSvMyNVKy1v-"
    },
    {
      "cell_type": "code",
      "execution_count": 40,
      "metadata": {
        "id": "kZA1v8mmy1v_",
        "outputId": "6f5171ef-b40f-4db6-e80e-ecea9cf97d77",
        "colab": {
          "base_uri": "https://localhost:8080/"
        }
      },
      "outputs": [
        {
          "output_type": "stream",
          "name": "stdout",
          "text": [
            "Después de add(4): {1, 2, 3, 4}\n",
            "Después de discard(2): {1, 3, 4}\n",
            "¿{1,3} es subconjunto?: True\n"
          ]
        }
      ],
      "source": [
        "conjunto = {1, 2, 3}\n",
        "conjunto.add(4)\n",
        "print(\"Después de add(4):\", conjunto)\n",
        "\n",
        "conjunto.discard(2)\n",
        "print(\"Después de discard(2):\", conjunto)\n",
        "\n",
        "print(\"¿{1,3} es subconjunto?:\", {1,3}.issubset(conjunto))"
      ],
      "id": "kZA1v8mmy1v_"
    },
    {
      "cell_type": "code",
      "source": [
        "conjunto = {1, 2, 3}\n",
        "conjunto.add(4)\n",
        "print(\"Después de add(4):\", conjunto)\n",
        "\n",
        "conjunto.discard(3)\n",
        "conjunto"
      ],
      "metadata": {
        "colab": {
          "base_uri": "https://localhost:8080/"
        },
        "id": "aQnCKkW-defE",
        "outputId": "152e5754-62b9-4232-e076-feee6476b239"
      },
      "id": "aQnCKkW-defE",
      "execution_count": 43,
      "outputs": [
        {
          "output_type": "stream",
          "name": "stdout",
          "text": [
            "Después de add(4): {1, 2, 3, 4}\n"
          ]
        },
        {
          "output_type": "execute_result",
          "data": {
            "text/plain": [
              "{1, 2, 4}"
            ]
          },
          "metadata": {},
          "execution_count": 43
        }
      ]
    },
    {
      "cell_type": "code",
      "source": [
        "print(\"¿{1,3} es subconjunto?:\", {1,3}.issubset(conjunto))"
      ],
      "metadata": {
        "colab": {
          "base_uri": "https://localhost:8080/"
        },
        "id": "v31lqXuxdtLw",
        "outputId": "af035a58-9653-4743-bd5b-dfa737dd8766"
      },
      "id": "v31lqXuxdtLw",
      "execution_count": 44,
      "outputs": [
        {
          "output_type": "stream",
          "name": "stdout",
          "text": [
            "¿{1,3} es subconjunto?: False\n"
          ]
        }
      ]
    },
    {
      "cell_type": "markdown",
      "metadata": {
        "id": "3-F0Vwsty1wA"
      },
      "source": [
        "## Diccionarios (`dict`)\n",
        "\n",
        "Un **diccionario** es una colección de pares **clave–valor**.\n",
        "\n",
        "- La **clave** identifica el dato (por ejemplo, \"nombre\").\n",
        "- El **valor** es el contenido asociado (por ejemplo, \"Laura\").\n",
        "\n",
        "Es una de las estructuras más importantes en Python, porque permite representar información estructurada de forma muy clara, similar a un registro o a una fila con nombres de columna.\n",
        "\n",
        "Sintaxis básica: llaves `{}` con pares `clave: valor` separados por comas."
      ],
      "id": "3-F0Vwsty1wA"
    },
    {
      "cell_type": "code",
      "execution_count": 45,
      "metadata": {
        "id": "KZ-1_FNby1wA",
        "outputId": "f6196c98-aba1-417f-d77a-6b0268ca504e",
        "colab": {
          "base_uri": "https://localhost:8080/"
        }
      },
      "outputs": [
        {
          "output_type": "stream",
          "name": "stdout",
          "text": [
            "Nombre: Laura\n",
            "Departamento: Finanzas\n",
            "Salario: 42500 €\n"
          ]
        }
      ],
      "source": [
        "empleado = {\n",
        "    \"nombre\": \"Laura\",\n",
        "    \"edad\": 34,\n",
        "    \"departamento\": \"Finanzas\",\n",
        "    \"salario\": 42500\n",
        "}\n",
        "\n",
        "print(\"Nombre:\", empleado[\"nombre\"])\n",
        "print(\"Departamento:\", empleado[\"departamento\"])\n",
        "print(\"Salario:\", empleado[\"salario\"], \"€\")"
      ],
      "id": "KZ-1_FNby1wA"
    },
    {
      "cell_type": "code",
      "source": [
        "empleado[\"departamento\"]"
      ],
      "metadata": {
        "colab": {
          "base_uri": "https://localhost:8080/",
          "height": 35
        },
        "id": "J-qZW2IOd6Mp",
        "outputId": "1b0981e9-de04-4f62-c254-74f7ac8c9edd"
      },
      "id": "J-qZW2IOd6Mp",
      "execution_count": 47,
      "outputs": [
        {
          "output_type": "execute_result",
          "data": {
            "text/plain": [
              "'Finanzas'"
            ],
            "application/vnd.google.colaboratory.intrinsic+json": {
              "type": "string"
            }
          },
          "metadata": {},
          "execution_count": 47
        }
      ]
    },
    {
      "cell_type": "markdown",
      "metadata": {
        "id": "cD0WtnV6y1wB"
      },
      "source": [
        "Podemos modificar un diccionario en cualquier momento: añadir claves nuevas, actualizar valores existentes o eliminar una clave.\n",
        "\n",
        "También existe `get()`, que permite consultar una clave sin que salte error si no existe."
      ],
      "id": "cD0WtnV6y1wB"
    },
    {
      "cell_type": "code",
      "execution_count": 48,
      "metadata": {
        "id": "MEcru8aVy1wC",
        "outputId": "474b4663-858e-4439-c81a-4cdc597cd2dd",
        "colab": {
          "base_uri": "https://localhost:8080/"
        }
      },
      "outputs": [
        {
          "output_type": "stream",
          "name": "stdout",
          "text": [
            "Diccionario actualizado: {'nombre': 'Laura', 'edad': 34, 'salario': 44000, 'antigüedad': 5}\n"
          ]
        }
      ],
      "source": [
        "# Añadir o modificar\n",
        "empleado[\"antigüedad\"] = 5      # años\n",
        "empleado[\"salario\"] = 44000     # actualización\n",
        "\n",
        "# Eliminar una clave\n",
        "del empleado[\"departamento\"]\n",
        "\n",
        "print(\"Diccionario actualizado:\", empleado)\n",
        "\n"
      ],
      "id": "MEcru8aVy1wC"
    },
    {
      "cell_type": "code",
      "source": [
        "# Acceso seguro con get()\n",
        "empleado.get(\"bonus\", \"Clave no encontrada en el diccionario\")"
      ],
      "metadata": {
        "colab": {
          "base_uri": "https://localhost:8080/",
          "height": 35
        },
        "id": "FeohDYV-eTzJ",
        "outputId": "a4ff7d62-d64a-4f15-d913-f106865054cc"
      },
      "id": "FeohDYV-eTzJ",
      "execution_count": 53,
      "outputs": [
        {
          "output_type": "execute_result",
          "data": {
            "text/plain": [
              "'Clave no encontrada en el diccionario'"
            ],
            "application/vnd.google.colaboratory.intrinsic+json": {
              "type": "string"
            }
          },
          "metadata": {},
          "execution_count": 53
        }
      ]
    },
    {
      "cell_type": "markdown",
      "metadata": {
        "id": "yh-hid7ey1wD"
      },
      "source": [
        "También podemos recorrer un diccionario.\n",
        "\n",
        "- `.keys()` devuelve todas las claves.\n",
        "- `.values()` devuelve todos los valores.\n",
        "- `.items()` devuelve pares `(clave, valor)` que podemos usar en bucles."
      ],
      "id": "yh-hid7ey1wD"
    },
    {
      "cell_type": "code",
      "execution_count": 54,
      "metadata": {
        "id": "7-pXMI-Yy1wD",
        "outputId": "096160fb-67da-48f4-98c3-e57f3be88526",
        "colab": {
          "base_uri": "https://localhost:8080/"
        }
      },
      "outputs": [
        {
          "output_type": "stream",
          "name": "stdout",
          "text": [
            "Claves: ['nombre', 'edad', 'salario', 'antigüedad']\n",
            "Valores: ['Laura', 34, 44000, 5]\n",
            "Pares clave–valor: [('nombre', 'Laura'), ('edad', 34), ('salario', 44000), ('antigüedad', 5)]\n"
          ]
        }
      ],
      "source": [
        "print(\"Claves:\", list(empleado.keys()))\n",
        "print(\"Valores:\", list(empleado.values()))\n",
        "print(\"Pares clave–valor:\", list(empleado.items()))"
      ],
      "id": "7-pXMI-Yy1wD"
    },
    {
      "cell_type": "markdown",
      "metadata": {
        "id": "z7V94uYsy1wF"
      },
      "source": [
        "## Diccionarios anidados\n",
        "\n",
        "Un diccionario puede contener otros diccionarios. Esto permite representar información jerárquica.\n",
        "\n",
        "Ejemplo: un proyecto con indicadores asociados."
      ],
      "id": "z7V94uYsy1wF"
    },
    {
      "cell_type": "code",
      "execution_count": 55,
      "metadata": {
        "id": "IIUx2DPky1wF",
        "outputId": "296e97ff-cfe3-4888-a7ed-7d6dc7368d6d",
        "colab": {
          "base_uri": "https://localhost:8080/"
        }
      },
      "outputs": [
        {
          "output_type": "stream",
          "name": "stdout",
          "text": [
            "Nombre del proyecto: Análisis de ventas\n",
            "Beneficio: 64000 €\n"
          ]
        }
      ],
      "source": [
        "proyecto = {\n",
        "    \"nombre\": \"Análisis de ventas\",\n",
        "    \"periodo\": \"2025-Q3\",\n",
        "    \"indicadores\": {\n",
        "        \"ingresos\": 158000,\n",
        "        \"gastos\": 94000,\n",
        "        \"beneficio\": 64000\n",
        "    }\n",
        "}\n",
        "\n",
        "print(\"Nombre del proyecto:\", proyecto[\"nombre\"])\n",
        "print(\"Beneficio:\", proyecto[\"indicadores\"][\"beneficio\"], \"€\")"
      ],
      "id": "IIUx2DPky1wF"
    },
    {
      "cell_type": "code",
      "source": [
        "proyecto[\"indicadores\"][\"beneficio\"]"
      ],
      "metadata": {
        "colab": {
          "base_uri": "https://localhost:8080/"
        },
        "id": "vPpW2YkIe5Fp",
        "outputId": "e9a6b912-37bc-4cb8-cce4-d8c62a22408c"
      },
      "id": "vPpW2YkIe5Fp",
      "execution_count": 59,
      "outputs": [
        {
          "output_type": "execute_result",
          "data": {
            "text/plain": [
              "64000"
            ]
          },
          "metadata": {},
          "execution_count": 59
        }
      ]
    },
    {
      "cell_type": "markdown",
      "metadata": {
        "id": "dSjeSTFKy1wH"
      },
      "source": [
        "## Resumen de la unidad\n",
        "\n",
        "En esta unidad hemos visto:\n",
        "\n",
        "- **Tuplas (`tuple`)**: ordenadas e inmutables. Útiles para datos que no deben cambiar.\n",
        "- **Conjuntos (`set`)**: colecciones sin duplicados, ideales para comparar valores únicos.\n",
        "- **Diccionarios (`dict`)**: pares clave–valor, la forma más directa de representar registros con nombre de campo.\n",
        "\n",
        "Estas estructuras son la base para trabajar con información estructurada en Python. En la siguiente unidad veremos cómo usar estas estructuras dentro de **condicionales** para tomar decisiones automáticas."
      ],
      "id": "dSjeSTFKy1wH"
    }
  ],
  "metadata": {
    "colab": {
      "provenance": []
    },
    "kernelspec": {
      "display_name": "base",
      "language": "python",
      "name": "python3"
    },
    "language_info": {
      "codemirror_mode": {
        "name": "ipython",
        "version": 3
      },
      "file_extension": ".py",
      "mimetype": "text/x-python",
      "name": "python",
      "nbconvert_exporter": "python",
      "pygments_lexer": "ipython3",
      "version": "3.13.5"
    }
  },
  "nbformat": 4,
  "nbformat_minor": 5
}
