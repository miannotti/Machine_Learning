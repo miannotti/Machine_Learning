{
  "cells": [
    {
      "cell_type": "markdown",
      "id": "f7548507",
      "metadata": {
        "id": "f7548507"
      },
      "source": [
        "# Variables y tipos de datos en Python\n",
        "\n",
        "En esta primera parte introducimos las piezas más básicas de cualquier programa: las **variables** y los **tipos de datos**."
      ]
    },
    {
      "cell_type": "markdown",
      "id": "5c14672f",
      "metadata": {
        "id": "5c14672f"
      },
      "source": [
        "## Variables básicas\n",
        "\n",
        "Una variable se define con el operador `=`.  A la izquierda está el nombre de la variable y a la derecha el valor.\n",
        "\n",
        "Cada variable tiene:\n",
        "- un **nombre**,\n",
        "- un **valor**, y\n",
        "- un **tipo**.\n"
      ]
    },
    {
      "cell_type": "code",
      "execution_count": 1,
      "id": "38c75435",
      "metadata": {
        "id": "38c75435"
      },
      "outputs": [],
      "source": [
        "# Ejemplo de variables\n",
        "nombre = \"Lucía\"\n",
        "edad = 25\n",
        "categoría = 2005\n",
        "es_trabajadora = True #Booleano\n",
        "\n",
        "\n"
      ]
    },
    {
      "cell_type": "code",
      "source": [
        "type(es_trabajadora)"
      ],
      "metadata": {
        "colab": {
          "base_uri": "https://localhost:8080/"
        },
        "id": "2CkCTu9NNKvd",
        "outputId": "253187f6-5d8a-4704-977f-0e4326256502"
      },
      "id": "2CkCTu9NNKvd",
      "execution_count": 9,
      "outputs": [
        {
          "output_type": "execute_result",
          "data": {
            "text/plain": [
              "bool"
            ]
          },
          "metadata": {},
          "execution_count": 9
        }
      ]
    },
    {
      "cell_type": "code",
      "source": [
        "print(type(edad))\n",
        "print(type(nombre))\n",
        "print(type(categoría))\n",
        "print(type(es_trabajadora))"
      ],
      "metadata": {
        "colab": {
          "base_uri": "https://localhost:8080/"
        },
        "id": "DAc1q4zWIuro",
        "outputId": "ff2f5ac0-0766-4cb7-fffe-2b276d156687"
      },
      "id": "DAc1q4zWIuro",
      "execution_count": 10,
      "outputs": [
        {
          "output_type": "stream",
          "name": "stdout",
          "text": [
            "<class 'int'>\n",
            "<class 'str'>\n",
            "<class 'int'>\n",
            "<class 'bool'>\n"
          ]
        }
      ]
    },
    {
      "cell_type": "markdown",
      "id": "7dfd6bc7",
      "metadata": {
        "id": "7dfd6bc7"
      },
      "source": [
        "## Tipos básicos en Python\n",
        "\n",
        "Tipos fundamentales:\n",
        "\n",
        "- `int`: número entero (por ejemplo, 42)\n",
        "- `float`: número con decimales (por ejemplo, 3.14)\n",
        "- `str`: cadena de texto (por ejemplo, \"Python\")\n",
        "- `bool`: valor lógico (`True` o `False`)\n",
        "\n",
        "Conocer el tipo de un dato es importante porque determina qué operaciones son válidas."
      ]
    },
    {
      "cell_type": "code",
      "execution_count": 11,
      "id": "72742cd1",
      "metadata": {
        "id": "72742cd1",
        "colab": {
          "base_uri": "https://localhost:8080/"
        },
        "outputId": "783008f7-804b-4b37-db20-67d8a30168c1"
      },
      "outputs": [
        {
          "output_type": "stream",
          "name": "stdout",
          "text": [
            "Valor: 3.14\n",
            "Tipo: <class 'float'>\n"
          ]
        }
      ],
      "source": [
        "variable = 3.14\n",
        "print(\"Valor:\", variable)\n",
        "print(\"Tipo:\", type(variable))"
      ]
    },
    {
      "cell_type": "markdown",
      "id": "ef1297ec",
      "metadata": {
        "id": "ef1297ec"
      },
      "source": [
        "## Operadores aritméticos y comparativos\n",
        "\n",
        "Operadores matemáticos habituales:\n",
        "- `+`, `-`, `*`, `/` : suma, resta, multiplicación y división real\n",
        "- `//` : división entera (descarta decimales)\n",
        "- `%` : resto de una división\n",
        "- `**` : potencia\n",
        "\n",
        "Comparaciones (devuelven `True` o `False`):\n",
        "- `==` igual que\n",
        "- `!=` distinto de\n",
        "- `>` mayor que\n",
        "- `<` menor que\n",
        "- `>=` mayor o igual que\n",
        "- `<=` menor o igual que\n"
      ]
    },
    {
      "cell_type": "code",
      "execution_count": 12,
      "id": "a1a967d6",
      "metadata": {
        "id": "a1a967d6",
        "colab": {
          "base_uri": "https://localhost:8080/"
        },
        "outputId": "c9e101e1-cd95-4d84-cfdf-7dee6b8bb20a"
      },
      "outputs": [
        {
          "output_type": "stream",
          "name": "stdout",
          "text": [
            "a / b = 3.3333333333333335\n",
            "a // b = 3\n",
            "a % b = 1\n",
            "2 ** 3 = 8\n",
            "¿a > b? True\n",
            "¿a == b? False\n",
            "¿a != b? True\n"
          ]
        }
      ],
      "source": [
        "a = 10\n",
        "b = 3\n",
        "\n",
        "print(\"a / b =\", a / b)      # división real\n",
        "print(\"a // b =\", a // b)    # división entera\n",
        "print(\"a % b =\", a % b)      # resto\n",
        "print(\"2 ** 3 =\", 2 ** 3)    # potencia\n",
        "\n",
        "print(\"¿a > b?\", a > b)\n",
        "print(\"¿a == b?\", a == b)\n",
        "print(\"¿a != b?\", a != b)"
      ]
    },
    {
      "cell_type": "markdown",
      "id": "5e8a0812",
      "metadata": {
        "id": "5e8a0812"
      },
      "source": [
        "## Booleanos y operadores lógicos\n",
        "\n",
        "Los booleanos (`True` / `False`) son la base de la toma de decisiones.\n",
        "\n",
        "Operadores lógicos:\n",
        "- `and`: verdadero si **ambas** condiciones son verdaderas.\n",
        "- `or`: verdadero si **al menos una** lo es.\n",
        "- `not`: invierte el valor lógico.\n"
      ]
    },
    {
      "cell_type": "code",
      "execution_count": 14,
      "id": "b3cce11f",
      "metadata": {
        "id": "b3cce11f",
        "colab": {
          "base_uri": "https://localhost:8080/"
        },
        "outputId": "3e043859-f9b3-4831-9828-1a233cf1efd8"
      },
      "outputs": [
        {
          "output_type": "stream",
          "name": "stdout",
          "text": [
            "¿Salgo sin preocuparme? False\n",
            "¿Puedo salir igualmente? True\n",
            "¿No llueve? False\n"
          ]
        }
      ],
      "source": [
        "llueve = True\n",
        "tengo_paraguas = False\n",
        "\n",
        "print(\"¿Salgo sin preocuparme?\", llueve and tengo_paraguas)\n",
        "print(\"¿Puedo salir igualmente?\", llueve or tengo_paraguas)\n",
        "print(\"¿No llueve?\", not llueve)"
      ]
    },
    {
      "cell_type": "markdown",
      "id": "02fcf738",
      "metadata": {
        "id": "02fcf738"
      },
      "source": [
        "## Cadenas de texto (strings)\n",
        "\n",
        "Las cadenas (`str`) representan texto. Son esenciales para nombres, categorías o descripciones.\n",
        "\n",
        "Operaciones útiles:\n",
        "- `.lower()` → minúsculas\n",
        "- `.upper()` → mayúsculas\n",
        "- `.replace(a, b)` → sustituir texto\n",
        "- `len()` → longitud\n",
        "\n",
        "También usaremos *f-strings*, que nos permiten incrustar valores dentro de una cadena."
      ]
    },
    {
      "cell_type": "code",
      "execution_count": 21,
      "id": "60e5f05b",
      "metadata": {
        "id": "60e5f05b",
        "colab": {
          "base_uri": "https://localhost:8080/"
        },
        "outputId": "3f955f1f-3c3e-4601-a967-f252a2e5df44"
      },
      "outputs": [
        {
          "output_type": "stream",
          "name": "stdout",
          "text": [
            "Hola Lucía Bienvenida al curso\n"
          ]
        },
        {
          "output_type": "execute_result",
          "data": {
            "text/plain": [
              "5"
            ]
          },
          "metadata": {},
          "execution_count": 21
        }
      ],
      "source": [
        "nombre = \"Lucía\"\n",
        "mensaje= f\"Hola {nombre} Bienvenida al curso\"\n",
        "print(mensaje)\n",
        "\n",
        "\"PYTHON\".lower()\n",
        "\"Python\".upper()\n",
        "\"2025\".replace(\"2\", \"9\")\n",
        "len(nombre)"
      ]
    },
    {
      "cell_type": "markdown",
      "id": "755dd551",
      "metadata": {
        "id": "755dd551"
      },
      "source": [
        "## Listas\n",
        "\n",
        "Una **lista** es una colección ordenada y modificable. Se define con corchetes `[]`.\n",
        "\n",
        "Operaciones frecuentes:\n",
        "- `len(lista)` → número de elementos\n",
        "- `sum(lista)` → suma (si son números)\n",
        "- `.append(x)` → añade al final\n",
        "- `.sort()` → ordena\n"
      ]
    },
    {
      "cell_type": "code",
      "execution_count": 23,
      "id": "a6df75f6",
      "metadata": {
        "id": "a6df75f6",
        "colab": {
          "base_uri": "https://localhost:8080/"
        },
        "outputId": "cc385e26-6933-4970-e190-f03fbadcc568"
      },
      "outputs": [
        {
          "output_type": "stream",
          "name": "stdout",
          "text": [
            "Promedio 5.175\n"
          ]
        }
      ],
      "source": [
        "valores = [3.2, 5.1, 7.8, 4.6]\n",
        "len(valores)\n",
        "print(\"Promedio\", sum(valores)/len(valores))"
      ]
    },
    {
      "cell_type": "code",
      "source": [
        "valores.append(6.0)\n",
        "valores.sort()\n",
        "valores"
      ],
      "metadata": {
        "colab": {
          "base_uri": "https://localhost:8080/"
        },
        "id": "gQnlwnrwO57k",
        "outputId": "66afebb7-8376-4c84-f5ab-c43479a968cf"
      },
      "id": "gQnlwnrwO57k",
      "execution_count": 24,
      "outputs": [
        {
          "output_type": "execute_result",
          "data": {
            "text/plain": [
              "[3.2, 4.6, 5.1, 6.0, 7.8]"
            ]
          },
          "metadata": {},
          "execution_count": 24
        }
      ]
    },
    {
      "cell_type": "markdown",
      "id": "8892fa3b",
      "metadata": {
        "id": "8892fa3b"
      },
      "source": [
        "## Conversión de tipos (type casting)\n",
        "\n",
        "Cuando recibimos datos externos (por ejemplo de un CSV), a menudo vienen como texto.\n",
        "\n",
        "Conversión típica:\n",
        "- `int(\"42\")` → texto a entero\n",
        "- `float(\"3.5\")` → texto a decimal\n",
        "- `str(99)` → número a texto\n"
      ]
    },
    {
      "cell_type": "code",
      "execution_count": 25,
      "id": "510702b4",
      "metadata": {
        "id": "510702b4",
        "colab": {
          "base_uri": "https://localhost:8080/"
        },
        "outputId": "28ea4a40-090a-43b1-c3db-ca4c4d709876"
      },
      "outputs": [
        {
          "output_type": "stream",
          "name": "stdout",
          "text": [
            "42 <class 'int'>\n",
            "3.5 <class 'float'>\n",
            "99 <class 'str'>\n"
          ]
        }
      ],
      "source": [
        "x = \"42\"\n",
        "y = int(x)\n",
        "print(y, type(y))\n",
        "\n",
        "z = float(\"3.5\")\n",
        "print(z, type(z))\n",
        "\n",
        "w = str(99)\n",
        "print(w, type(w))"
      ]
    },
    {
      "cell_type": "markdown",
      "id": "3567f86f",
      "metadata": {
        "id": "3567f86f"
      },
      "source": [
        "## Ejemplo aplicado\n",
        "\n",
        "Tenemos los ingresos trimestrales de una empresa (en miles de euros) y queremos:\n",
        "1. Calcular el ingreso medio anual.\n",
        "2. Comprobar si ese resultado está por encima del objetivo marcado.\n"
      ]
    },
    {
      "cell_type": "code",
      "execution_count": 28,
      "id": "96c8182d",
      "metadata": {
        "id": "96c8182d",
        "colab": {
          "base_uri": "https://localhost:8080/"
        },
        "outputId": "51e68e40-1486-45fa-ca11-45a283edc776"
      },
      "outputs": [
        {
          "output_type": "stream",
          "name": "stdout",
          "text": [
            "Ingresos por trimestre: [120, 135, 128, 142]\n",
            "Ingreso medio anual: 131.25 miles de euros\n",
            "Objetivo esperado: 130 miles de euros\n",
            "¿Se supera el objetivo? True\n"
          ]
        }
      ],
      "source": [
        "# Ingresos trimestrales (en miles de euros)\n",
        "ingresos = [120, 135, 128, 142]\n",
        "\n",
        "# Cálculo de la media\n",
        "media = sum(ingresos) / len(ingresos)\n",
        "\n",
        "# Objetivo esperado\n",
        "objetivo = 130\n",
        "\n",
        "# Evaluación\n",
        "supera_objetivo = media > objetivo\n",
        "\n",
        "print(\"Ingresos por trimestre:\", ingresos)\n",
        "print(f\"Ingreso medio anual: {media:.2f} miles de euros\")\n",
        "print(f\"Objetivo esperado: {objetivo} miles de euros\")\n",
        "print(\"¿Se supera el objetivo?\", supera_objetivo)"
      ]
    },
    {
      "cell_type": "markdown",
      "id": "f41a380b",
      "metadata": {
        "id": "f41a380b"
      },
      "source": [
        "\n",
        "\n",
        "hemos visto:\n",
        "- cómo crear variables en Python,\n",
        "- los tipos básicos (`int`, `float`, `str`, `bool`),\n",
        "- operadores matemáticos y comparaciones,\n",
        "- manejo básico de texto,\n",
        "- listas y operaciones sobre listas,\n",
        "- conversión de tipos.\n",
        "\n",
        "Estas ideas son la base para todo lo que viene después: estructurar mejor la información (tuplas, conjuntos, diccionarios), tomar decisiones automáticas (condicionales) y automatizar tareas repetitivas (bucles)."
      ]
    }
  ],
  "metadata": {
    "colab": {
      "provenance": []
    },
    "kernelspec": {
      "display_name": "Python 3",
      "language": "python",
      "name": "python3"
    },
    "language_info": {
      "name": "python",
      "version": "3.x"
    }
  },
  "nbformat": 4,
  "nbformat_minor": 5
}
