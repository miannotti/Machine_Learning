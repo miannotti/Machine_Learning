{
  "nbformat": 4,
  "nbformat_minor": 5,
  "metadata": {
    "colab": {
      "provenance": []
    },
    "kernelspec": {
      "name": "python3",
      "language": "python",
      "display_name": "Python 3"
    },
    "language_info": {
      "name": "python",
      "version": "3.x"
    }
  },
  "cells": [
    {
      "cell_type": "markdown",
      "metadata": {
        "id": "3HbaH_l0FC0B"
      },
      "source": [
        "# Funciones en Python\n",
        "\n"
      ],
      "id": "3HbaH_l0FC0B"
    },
    {
      "cell_type": "markdown",
      "metadata": {
        "id": "Yn5UrTlDFC0J"
      },
      "source": [
        "## ¿Qué es una función?\n",
        "\n",
        "Una función es un bloque de código con un **nombre propio**, que:\n",
        "- recibe datos de entrada (parámetros),\n",
        "- ejecuta una serie de pasos,\n",
        "- devuelve un resultado con `return`.\n",
        "\n",
        "Sintaxis general:\n",
        "\n",
        "```python\n",
        "def nombre_funcion(parámetros):\n",
        "    # bloque de instrucciones\n",
        "    return resultado\n",
        "```\n",
        "\n",
        "Ventajas:\n",
        "- Reutilización: no repetimos el mismo código muchas veces.\n",
        "- Claridad: cada función expresa una acción concreta.\n",
        "- Mantenimiento: si cambia la fórmula, solo hay que actualizarla en un lugar.\n"
      ],
      "id": "Yn5UrTlDFC0J"
    },
    {
      "cell_type": "code",
      "source": [
        "def saludar(nombre):\n",
        "  mensaje = f\"Hola {nombre}, bienvenido\"\n",
        "  return mensaje"
      ],
      "metadata": {
        "id": "cZsLbqVdwrVM"
      },
      "id": "cZsLbqVdwrVM",
      "execution_count": 2,
      "outputs": []
    },
    {
      "cell_type": "code",
      "source": [
        "saludar(\"Matías\")"
      ],
      "metadata": {
        "colab": {
          "base_uri": "https://localhost:8080/",
          "height": 35
        },
        "id": "0lHOVHvTxPur",
        "outputId": "94932ac8-4fc2-4340-ef67-55d0713557bb"
      },
      "id": "0lHOVHvTxPur",
      "execution_count": 5,
      "outputs": [
        {
          "output_type": "execute_result",
          "data": {
            "text/plain": [
              "'Hola Matías, bienvenido'"
            ],
            "application/vnd.google.colaboratory.intrinsic+json": {
              "type": "string"
            }
          },
          "metadata": {},
          "execution_count": 5
        }
      ]
    },
    {
      "cell_type": "markdown",
      "metadata": {
        "id": "mlQNbUYYFC0Q"
      },
      "source": [
        "Observaciones:\n",
        "- `def` introduce la función.\n",
        "- `nombre` es el parámetro (entrada).\n",
        "- `return` indica el valor de salida.\n",
        "\n",
        "Si una función no contiene `return`, Python devuelve automáticamente `None`."
      ],
      "id": "mlQNbUYYFC0Q"
    },
    {
      "cell_type": "markdown",
      "metadata": {
        "id": "t7DM6KTgFC0S"
      },
      "source": [
        "## Parámetros y argumentos\n",
        "\n",
        "Podemos pasar información a una función mediante parámetros. La función puede usar estos datos internamente y producir un resultado calculado.\n"
      ],
      "id": "t7DM6KTgFC0S"
    },
    {
      "cell_type": "code",
      "metadata": {
        "id": "NlFbHnFhFC0V"
      },
      "execution_count": 7,
      "outputs": [],
      "source": [
        "def convertir_euros_a_dolares(euros, tipo_cambio):\n",
        "  dolares = euros * tipo_cambio\n",
        "  return dolares"
      ],
      "id": "NlFbHnFhFC0V"
    },
    {
      "cell_type": "code",
      "source": [
        "convertir_euros_a_dolares(100, 1.07)"
      ],
      "metadata": {
        "colab": {
          "base_uri": "https://localhost:8080/"
        },
        "id": "XlttbLyIxz4M",
        "outputId": "6bf3d080-a2b8-48d4-c906-e4ef5a4e1e58"
      },
      "id": "XlttbLyIxz4M",
      "execution_count": 8,
      "outputs": [
        {
          "output_type": "execute_result",
          "data": {
            "text/plain": [
              "107.0"
            ]
          },
          "metadata": {},
          "execution_count": 8
        }
      ]
    },
    {
      "cell_type": "markdown",
      "metadata": {
        "id": "V-h6gkVDFC0X"
      },
      "source": [
        "Una función puede tener varios parámetros y realizar varias operaciones intermedias antes de devolver su resultado.\n"
      ],
      "id": "V-h6gkVDFC0X"
    },
    {
      "cell_type": "code",
      "metadata": {
        "id": "FzIN-9c5FC0Y",
        "colab": {
          "base_uri": "https://localhost:8080/"
        },
        "outputId": "b8855cbc-5a39-44dd-cf70-c8c1a70af89b"
      },
      "execution_count": 9,
      "outputs": [
        {
          "output_type": "stream",
          "name": "stdout",
          "text": [
            "Rentabilidad: 20.00%\n"
          ]
        }
      ],
      "source": [
        "def calcular_rentabilidad(ingresos, gastos):\n",
        "    beneficio = ingresos - gastos\n",
        "    margen = beneficio / ingresos\n",
        "    return margen\n",
        "\n",
        "rentabilidad = calcular_rentabilidad(150000, 120000)\n",
        "print(f\"Rentabilidad: {rentabilidad:.2%}\")"
      ],
      "id": "FzIN-9c5FC0Y"
    },
    {
      "cell_type": "markdown",
      "metadata": {
        "id": "JLUcStTBFC0Y"
      },
      "source": [
        "## Parámetros con valores por defecto\n",
        "\n",
        "Podemos asignar valores por defecto a ciertos parámetros. Si el usuario no especifica ese parámetro al llamar a la función, se utiliza el valor por defecto.\n"
      ],
      "id": "JLUcStTBFC0Y"
    },
    {
      "cell_type": "code",
      "metadata": {
        "id": "OR7Nx8OvFC0Z"
      },
      "execution_count": 10,
      "outputs": [],
      "source": [
        "def aplicar_iva(precio, tipo=0.21):\n",
        "  total = precio * (1+tipo)\n",
        "  return total\n"
      ],
      "id": "OR7Nx8OvFC0Z"
    },
    {
      "cell_type": "code",
      "source": [
        "aplicar_iva(100)"
      ],
      "metadata": {
        "colab": {
          "base_uri": "https://localhost:8080/"
        },
        "id": "SPuJluy7yYN2",
        "outputId": "0dd0142f-a275-4f93-d3a0-4c2bd08e582f"
      },
      "id": "SPuJluy7yYN2",
      "execution_count": 13,
      "outputs": [
        {
          "output_type": "execute_result",
          "data": {
            "text/plain": [
              "121.0"
            ]
          },
          "metadata": {},
          "execution_count": 13
        }
      ]
    },
    {
      "cell_type": "code",
      "source": [],
      "metadata": {
        "id": "ydVSztDwysFE"
      },
      "id": "ydVSztDwysFE",
      "execution_count": null,
      "outputs": []
    },
    {
      "cell_type": "markdown",
      "metadata": {
        "id": "mCDjCMCeFC0a"
      },
      "source": [
        "## Devolver más de un resultado\n",
        "\n",
        "Una función puede devolver más de un valor a la vez. En realidad, devuelve una tupla, que luego podemos desempaquetar en varias variables.\n",
        "\n",
        "Esto es útil cuando queremos obtener varios indicadores en un solo paso.\n"
      ],
      "id": "mCDjCMCeFC0a"
    },
    {
      "cell_type": "code",
      "metadata": {
        "id": "x_ToMoTDFC0a"
      },
      "execution_count": 14,
      "outputs": [],
      "source": [
        "def resumen_datos(lista):\n",
        "    minimo = min(lista)\n",
        "    maximo = max(lista)\n",
        "    promedio = sum(lista) / len(lista)\n",
        "    return minimo, maximo, promedio\n",
        "\n"
      ],
      "id": "x_ToMoTDFC0a"
    },
    {
      "cell_type": "code",
      "source": [
        "valores = [12, 8, 15, 10, 18, 11]\n",
        "mn, mx, prom = resumen_datos(valores)\n",
        "\n",
        "print(\"Mínimo:\", mn)\n",
        "print(\"Máximo:\", mx)\n",
        "print(\"Promedio:\", prom)"
      ],
      "metadata": {
        "colab": {
          "base_uri": "https://localhost:8080/"
        },
        "id": "O9dkMVegysjN",
        "outputId": "564a6dce-1f5d-40c2-8ba7-43168908bc50"
      },
      "id": "O9dkMVegysjN",
      "execution_count": 17,
      "outputs": [
        {
          "output_type": "stream",
          "name": "stdout",
          "text": [
            "Mínimo: 8\n",
            "Máximo: 18\n",
            "Promedio: 12.333333333333334\n"
          ]
        }
      ]
    },
    {
      "cell_type": "markdown",
      "metadata": {
        "id": "7WepyTDZFC0b"
      },
      "source": [
        "## Funciones y bucles\n",
        "\n",
        "Las funciones pueden utilizarse dentro de bucles para aplicar la misma lógica a muchos valores. Esto es típico en análisis de datos.\n"
      ],
      "id": "7WepyTDZFC0b"
    },
    {
      "cell_type": "code",
      "metadata": {
        "id": "b8Maqd1WFC0b",
        "colab": {
          "base_uri": "https://localhost:8080/"
        },
        "outputId": "7689e70d-6b98-4ca5-d377-d49853597943"
      },
      "execution_count": 18,
      "outputs": [
        {
          "output_type": "stream",
          "name": "stdout",
          "text": [
            "Venta: 1200 → IVA: 252.00\n",
            "Venta: 3400 → IVA: 714.00\n",
            "Venta: 1500 → IVA: 315.00\n",
            "Venta: 2100 → IVA: 441.00\n"
          ]
        }
      ],
      "source": [
        "def calcular_impuesto(base, tipo):\n",
        "    return base * tipo\n",
        "\n",
        "ventas = [1200, 3400, 1500, 2100]\n",
        "tipo_iva = 0.21\n",
        "\n",
        "for v in ventas:\n",
        "    impuesto = calcular_impuesto(v, tipo_iva)\n",
        "    print(f\"Venta: {v} → IVA: {impuesto:.2f}\")"
      ],
      "id": "b8Maqd1WFC0b"
    },
    {
      "cell_type": "markdown",
      "metadata": {
        "id": "xeTuTkeZFC0c"
      },
      "source": [
        "## Funciones dentro de funciones\n",
        "\n",
        "Podemos definir una función dentro de otra. Esto permite agrupar lógica auxiliar que solo tiene sentido dentro de ese flujo.\n",
        "\n",
        "Ejemplo: normalizar una lista de datos dividiendo cada valor entre el máximo de la lista.\n"
      ],
      "id": "xeTuTkeZFC0c"
    },
    {
      "cell_type": "code",
      "metadata": {
        "id": "-sQmzNQ0FC0c",
        "colab": {
          "base_uri": "https://localhost:8080/"
        },
        "outputId": "a3827c44-0544-42ca-dfe7-797a32637490"
      },
      "execution_count": 19,
      "outputs": [
        {
          "output_type": "stream",
          "name": "stdout",
          "text": [
            "Datos normalizados: [0.5, 0.75, 0.25, 1.0]\n"
          ]
        }
      ],
      "source": [
        "def normalizar_datos(lista):\n",
        "    maximo = max(lista)\n",
        "    def escalar(x):\n",
        "        return x / maximo\n",
        "    return [escalar(x) for x in lista]\n",
        "\n",
        "datos = [12, 18, 6, 24]\n",
        "print(\"Datos normalizados:\", normalizar_datos(datos))"
      ],
      "id": "-sQmzNQ0FC0c"
    },
    {
      "cell_type": "markdown",
      "metadata": {
        "id": "Xu_ztGiDFC0d"
      },
      "source": [
        "## Funciones anónimas: `lambda`, `map()` y `filter()`\n",
        "\n",
        "Una **función lambda** es una función anónima y de una sola línea. Se suele utilizar cuando necesitamos una transformación sencilla y no compensa definir una función completa con `def`.\n",
        "\n",
        "Para aplicar `lambda` sobre colecciones se usan mucho `map()` y `filter()`:\n",
        "- `map(función, lista)` aplica la función a cada elemento.\n",
        "- `filter(función, lista)` conserva solo los elementos para los que la función devuelve `True`.\n"
      ],
      "id": "Xu_ztGiDFC0d"
    },
    {
      "cell_type": "code",
      "metadata": {
        "id": "RHW5SFbNFC0d",
        "colab": {
          "base_uri": "https://localhost:8080/"
        },
        "outputId": "8967bac7-008a-4a51-9dab-c1aaad13d375"
      },
      "execution_count": 22,
      "outputs": [
        {
          "output_type": "stream",
          "name": "stdout",
          "text": [
            "Valores dobles: [4, 8, 12, 16, 20]\n",
            "Mayores que 5: [6, 8, 10]\n"
          ]
        }
      ],
      "source": [
        "valores = [2, 4, 6, 8, 10]\n",
        "\n",
        "# map con lambda: multiplicar por 2\n",
        "dobles = list(map(lambda x: x * 2, valores))\n",
        "print(\"Valores dobles:\", dobles)\n",
        "\n",
        "# filter con lambda: quedarnos con los > 5\n",
        "mayores_que_5 = list(filter(lambda x: x > 5, valores))\n",
        "print(\"Mayores que 5:\", mayores_que_5)"
      ],
      "id": "RHW5SFbNFC0d"
    },
    {
      "cell_type": "markdown",
      "metadata": {
        "id": "tByn5gCbFC0e"
      },
      "source": [
        "## Resumen de la unidad\n",
        "\n",
        "En esta unidad hemos visto:\n",
        "\n",
        "- Cómo definir funciones con `def`.\n",
        "- Cómo pasar parámetros y obtener resultados con `return`.\n",
        "- Cómo devolver varios valores a la vez.\n",
        "- Cómo reutilizar funciones dentro de bucles.\n",
        "- Qué son las funciones anónimas (`lambda`) y cómo usarlas con `map()` y `filter()`.\n",
        "- Cómo encapsular una lógica de negocio sencilla en una función completa.\n",
        "\n",
        "Las funciones son la base para estructurar programas medianos y grandes. A partir de aquí podremos organizar el código en módulos y, más adelante, en clases y objetos."
      ],
      "id": "tByn5gCbFC0e"
    }
  ]
}
